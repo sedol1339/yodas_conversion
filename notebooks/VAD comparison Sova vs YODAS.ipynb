{
 "cells": [
  {
   "cell_type": "code",
   "execution_count": null,
   "metadata": {},
   "outputs": [],
   "source": [
    "import os\n",
    "os.environ[\"HF_TOKEN\"] = \"...\""
   ]
  },
  {
   "cell_type": "code",
   "execution_count": null,
   "metadata": {},
   "outputs": [],
   "source": [
    "from datasets import load_dataset, Audio\n",
    "import matplotlib.pyplot as plt\n",
    "import numpy as np\n",
    "import torch\n",
    "from tqdm.auto import tqdm\n",
    "\n",
    "from src.speaker_diarization import SpeakerDiarizationWrapper, get_speech_mask\n",
    "from src.audioset_utils import pad_or_trim_to_len"
   ]
  },
  {
   "cell_type": "code",
   "execution_count": null,
   "metadata": {},
   "outputs": [],
   "source": [
    "sova = (\n",
    "    load_dataset('datasets/sova_128k', data_files='00000-of-00608.parquet', split='train')\n",
    "    .cast_column('audio', Audio(decode=True, sampling_rate=16_000))\n",
    ").shuffle(0)"
   ]
  },
  {
   "cell_type": "code",
   "execution_count": null,
   "metadata": {},
   "outputs": [],
   "source": [
    "yodas = (\n",
    "    load_dataset('datasets/yodas_ru000_128k_filtered5', data_files='00000-of-00079.parquet', split='train')\n",
    "    .cast_column('audio', Audio(decode=True, sampling_rate=16_000))\n",
    ").shuffle(0)"
   ]
  },
  {
   "cell_type": "code",
   "execution_count": null,
   "metadata": {},
   "outputs": [],
   "source": [
    "sova_audios = [s['audio']['array'] for s in sova.take(500)]\n",
    "yodas_audios = [s['audio']['array'] for s in yodas.take(500)]"
   ]
  },
  {
   "cell_type": "code",
   "execution_count": null,
   "metadata": {},
   "outputs": [],
   "source": [
    "plt.hist([len(w) / 16_000 for w in sova_audios], bins=np.linspace(0, 30, num=60))\n",
    "plt.hist([len(w) / 16_000 for w in yodas_audios], bins=np.linspace(0, 30, num=60), weights=-np.ones(len(yodas_audios)))\n",
    "plt.grid()\n",
    "plt.show()"
   ]
  },
  {
   "cell_type": "code",
   "execution_count": null,
   "metadata": {},
   "outputs": [],
   "source": [
    "speaker_diarization = SpeakerDiarizationWrapper(\n",
    "    segmentation_batch_size=32,\n",
    "    embedding_batch_size=32,\n",
    "    device='cpu',\n",
    ")"
   ]
  },
  {
   "cell_type": "code",
   "execution_count": null,
   "metadata": {},
   "outputs": [],
   "source": [
    "waveform = sova_audios[0]\n",
    "\n",
    "is_speech_sova = []\n",
    "for waveform in tqdm(sova_audios):\n",
    "    segments = speaker_diarization.predict_on_long_audio(\n",
    "        waveform, sampling_rate=16_000\n",
    "    ).segments\n",
    "    speech_mask = get_speech_mask(segments, duration=len(waveform) / 16_000)\n",
    "    speech_mask = pad_or_trim_to_len(speech_mask, 16_000 * 30)\n",
    "    is_speech_sova.append(speech_mask)"
   ]
  },
  {
   "cell_type": "code",
   "execution_count": null,
   "metadata": {},
   "outputs": [],
   "source": [
    "speech_mask"
   ]
  },
  {
   "cell_type": "code",
   "execution_count": null,
   "metadata": {},
   "outputs": [],
   "source": [
    "plt.imshow(is_speech_mask[None], aspect='auto', cmap='tab10', interpolation='none', vmin=0, vmax=9)"
   ]
  },
  {
   "cell_type": "code",
   "execution_count": null,
   "metadata": {},
   "outputs": [],
   "source": []
  }
 ],
 "metadata": {
  "kernelspec": {
   "display_name": "venv",
   "language": "python",
   "name": "python3"
  },
  "language_info": {
   "codemirror_mode": {
    "name": "ipython",
    "version": 3
   },
   "file_extension": ".py",
   "mimetype": "text/x-python",
   "name": "python",
   "nbconvert_exporter": "python",
   "pygments_lexer": "ipython3",
   "version": "3.12.3"
  }
 },
 "nbformat": 4,
 "nbformat_minor": 2
}
