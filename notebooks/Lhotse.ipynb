{
 "cells": [
  {
   "cell_type": "code",
   "execution_count": null,
   "metadata": {},
   "outputs": [],
   "source": [
    "from pathlib import Path\n",
    "import pickle\n",
    "from typing import Any\n",
    "\n",
    "import numpy as np\n",
    "from datasets import load_dataset, Dataset\n",
    "from tqdm.auto import tqdm\n",
    "from scipy.special import log_softmax\n",
    "import IPython.display\n",
    "import lhotse\n",
    "from lhotse import RecordingSet, Recording, AudioSource, CutSet, SupervisionSegment"
   ]
  },
  {
   "cell_type": "code",
   "execution_count": 33,
   "metadata": {},
   "outputs": [
    {
     "data": {
      "application/vnd.jupyter.widget-view+json": {
       "model_id": "41f1ab41658248059bc5a83e72266ec4",
       "version_major": 2,
       "version_minor": 0
      },
      "text/plain": [
       "Resolving data files:   0%|          | 0/331 [00:00<?, ?it/s]"
      ]
     },
     "metadata": {},
     "output_type": "display_data"
    },
    {
     "data": {
      "application/vnd.jupyter.widget-view+json": {
       "model_id": "120180f0c242493cab7138900739ad70",
       "version_major": 2,
       "version_minor": 0
      },
      "text/plain": [
       "Resolving data files:   0%|          | 0/331 [00:00<?, ?it/s]"
      ]
     },
     "metadata": {},
     "output_type": "display_data"
    },
    {
     "data": {
      "application/vnd.jupyter.widget-view+json": {
       "model_id": "47c1bd878e0d41b9a1ab9ea3c4b1dd18",
       "version_major": 2,
       "version_minor": 0
      },
      "text/plain": [
       "Downloading data:   0%|          | 0/331 [00:00<?, ?files/s]"
      ]
     },
     "metadata": {},
     "output_type": "display_data"
    },
    {
     "data": {
      "application/vnd.jupyter.widget-view+json": {
       "model_id": "e1706aeb207547cfac64ad68a80ea08f",
       "version_major": 2,
       "version_minor": 0
      },
      "text/plain": [
       "Generating train split: 0 examples [00:00, ? examples/s]"
      ]
     },
     "metadata": {},
     "output_type": "display_data"
    }
   ],
   "source": [
    "dataset = load_dataset('yodas2_ru000_32k', data_files='*.parquet', split='train').with_format('np')"
   ]
  },
  {
   "cell_type": "code",
   "execution_count": 37,
   "metadata": {},
   "outputs": [
    {
     "name": "stdout",
     "output_type": "stream",
     "text": [
      "MonoCut(id='YoSwHP0w-so', start=0.0, duration=51.873416666666664, channel=0, supervisions=[SupervisionSegment(id='YoSwHP0w-so-00000-00000000-00000726', recording_id='YoSwHP0w-so', start=0.0, duration=7.26, channel=0, text='Привет друзья и с вами снова Жека у себя на балконе и Давайте опять послушаем короткие', language=None, speaker=None, gender=None, custom=None, alignment=None), SupervisionSegment(id='YoSwHP0w-so-00001-00000726-00001278', recording_id='YoSwHP0w-so', start=7.26, duration=5.5199995, channel=0, text='анекдот от меня да да друзья вам не послышалось именно от меня от вашего', language=None, speaker=None, gender=None, custom=None, alignment=None), SupervisionSegment(id='YoSwHP0w-so-00002-00001278-00001872', recording_id='YoSwHP0w-so', start=12.78, duration=5.9399996, channel=0, text='Джеки Поэтому заранее ставим такой вот жирный лайкос Можно два и подписываемся', language=None, speaker=None, gender=None, custom=None, alignment=None), SupervisionSegment(id='YoSwHP0w-so-00003-00001872-00002478', recording_id='YoSwHP0w-so', start=18.72, duration=6.0600014, channel=0, text='на канал а канал ещё раз называется Жека друзья идёт с работы парень у него в сумке', language=None, speaker=None, gender=None, custom=None, alignment=None), SupervisionSegment(id='YoSwHP0w-so-00004-00002478-00002946', recording_id='YoSwHP0w-so', start=24.78, duration=4.6799984, channel=0, text='баллон золотой краски Ну и навстречу ему цыганка так надо подходит и говорит', language=None, speaker=None, gender=None, custom=None, alignment=None), SupervisionSegment(id='YoSwHP0w-so-00005-00002946-00003738', recording_id='YoSwHP0w-so', start=29.46, duration=7.920002, channel=0, text='ну парень не долго думая достаёт из сумки баллончики поливать и по', language=None, speaker=None, gender=None, custom=None, alignment=None), SupervisionSegment(id='YoSwHP0w-so-00006-00003738-00004122', recording_id='YoSwHP0w-so', start=37.38, duration=3.8400002, channel=0, text='рукам цыганка мне-то умение с криками набрасывают на этого парня и говорит', language=None, speaker=None, gender=None, custom=None, alignment=None), SupervisionSegment(id='YoSwHP0w-so-00007-00004122-00004572', recording_id='YoSwHP0w-so', start=41.22, duration=4.5, channel=0, text='в ответ ну вы же просили меня позолотить вам ручку', language=None, speaker=None, gender=None, custom=None, alignment=None)], features=None, recording=Recording(id='YoSwHP0w-so', sources=[AudioSource(type='file', channels=[0], source='yodas2_ru000_32k/audio/YoSwHP0w-so.mp3')], sampling_rate=24000, num_samples=1244962, duration=51.873416666666664, channel_ids=[0], transforms=None), custom=None)\n"
     ]
    }
   ],
   "source": [
    "def yodas_hf_sample_to_cut(sample: dict[str, Any], data_dir: str = '.') -> lhotse.cut.Cut:\n",
    "    if 'path' in sample['audio']:\n",
    "        recording = Recording.from_file(\n",
    "            data_dir + '/' + sample['audio']['path'],\n",
    "            recording_id=sample['video_id']\n",
    "        )\n",
    "    elif 'bytes' in sample['audio']:\n",
    "        recording = Recording.from_bytes(\n",
    "            sample['audio']['bytes'],\n",
    "            recording_id=sample['video_id']\n",
    "        )\n",
    "    else:\n",
    "        raise NotImplementedError('use .cast_column(\"audio\", decode=False)')\n",
    "    cut = recording.to_cut()\n",
    "    utterances = sample['utterances']\n",
    "    cut.supervisions = [\n",
    "        SupervisionSegment(\n",
    "            id=utt_id,\n",
    "            recording_id=recording.id,\n",
    "            start=start,\n",
    "            duration=end - start,\n",
    "            text=text,\n",
    "        )\n",
    "        for start, end, text, utt_id\n",
    "        in zip(utterances['start'], utterances['end'], utterances['text'], utterances['utt_id'])\n",
    "    ]\n",
    "    return cut\n",
    "\n",
    "print(yodas_hf_sample_to_cut(dataset[0], data_dir='yodas2_ru000_32k'))"
   ]
  },
  {
   "cell_type": "code",
   "execution_count": null,
   "metadata": {},
   "outputs": [],
   "source": []
  }
 ],
 "metadata": {
  "kernelspec": {
   "display_name": "venv",
   "language": "python",
   "name": "python3"
  },
  "language_info": {
   "codemirror_mode": {
    "name": "ipython",
    "version": 3
   },
   "file_extension": ".py",
   "mimetype": "text/x-python",
   "name": "python",
   "nbconvert_exporter": "python",
   "pygments_lexer": "ipython3",
   "version": "3.12.3"
  }
 },
 "nbformat": 4,
 "nbformat_minor": 2
}
